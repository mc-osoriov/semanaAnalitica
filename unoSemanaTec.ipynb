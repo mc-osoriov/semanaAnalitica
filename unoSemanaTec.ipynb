{
 "cells": [
  {
   "cell_type": "code",
   "execution_count": 1,
   "id": "db304ba4",
   "metadata": {},
   "outputs": [],
   "source": [
    "#Ejercicio 1"
   ]
  },
  {
   "cell_type": "code",
   "execution_count": 13,
   "id": "890d84bb",
   "metadata": {},
   "outputs": [
    {
     "name": "stdout",
     "output_type": "stream",
     "text": [
      "23\n",
      "2\n",
      "3\n",
      "5\n",
      "7\n",
      "11\n",
      "13\n",
      "17\n",
      "19\n",
      "23\n"
     ]
    }
   ],
   "source": [
    "def primos(n):\n",
    "  for i in range (2, n + 1): \n",
    "    for j in range (2, i):  \n",
    "        if i % j == 0:  \n",
    "            break  \n",
    "    else:  \n",
    "        print (i)\n",
    "\n",
    "primos(23)"
   ]
  },
  {
   "cell_type": "code",
   "execution_count": 1,
   "id": "639d079c",
   "metadata": {},
   "outputs": [],
   "source": [
    "#Ejercicio 2"
   ]
  },
  {
   "cell_type": "code",
   "execution_count": 3,
   "id": "8c810676",
   "metadata": {},
   "outputs": [
    {
     "data": {
      "text/plain": [
       "[25.200000000000003, -8.290000000000001, -1.7319999999999998]"
      ]
     },
     "execution_count": 3,
     "metadata": {},
     "output_type": "execute_result"
    }
   ],
   "source": [
    "def cross(a,b):\n",
    "  c=[]\n",
    "  c.append(a[1]*b[2]-a[2]*b[1])\n",
    "  c.append(a[2]*b[0]-a[0]*b[2])\n",
    "  c.append(a[0]*b[1]-a[1]*b[0])\n",
    "  return c\n",
    "\n",
    "x = [1.2,3.7,-0.25]\n",
    "y = [-0.44,-2.8,7]\n",
    "\n",
    "cross(x,y)   "
   ]
  },
  {
   "cell_type": "code",
   "execution_count": 3,
   "id": "b3eefa25",
   "metadata": {},
   "outputs": [],
   "source": [
    "#Ejercicio 3"
   ]
  },
  {
   "cell_type": "code",
   "execution_count": 4,
   "id": "ae5e9fd6",
   "metadata": {},
   "outputs": [
    {
     "name": "stdout",
     "output_type": "stream",
     "text": [
      "[['13.45', ' 20.67', ' -15.0821'], ['-5.012', ' -40.333', ' 12.874']]\n",
      "a=  [13.45, 20.67, -15.0821]\n",
      "b=  [-5.012, -40.333, 12.874]\n",
      "a x b=  [-342.20075929999996, -97.56381480000002, -438.88081]\n"
     ]
    }
   ],
   "source": [
    "import csv \n",
    "filas = []\n",
    "with open(\"vectors.txt\",'r') as file:\n",
    "    csvr = csv.reader(file)\n",
    "    for row in csvr:\n",
    "        filas.append(row)\n",
    "print(filas)\n",
    "\n",
    "a =  [float(filas[0][0]),float(filas[0][1]), float(filas[0][2])]\n",
    "b =  [float(filas[1][0]),float(filas[1][1]), float(filas[1][2])]\n",
    "cr = cross(a,b)\n",
    "print(\"a= \",a)\n",
    "print(\"b= \",b)\n",
    "print(\"a x b= \", cr)"
   ]
  }
 ],
 "metadata": {
  "kernelspec": {
   "display_name": "Python 3 (ipykernel)",
   "language": "python",
   "name": "python3"
  },
  "language_info": {
   "codemirror_mode": {
    "name": "ipython",
    "version": 3
   },
   "file_extension": ".py",
   "mimetype": "text/x-python",
   "name": "python",
   "nbconvert_exporter": "python",
   "pygments_lexer": "ipython3",
   "version": "3.9.7"
  }
 },
 "nbformat": 4,
 "nbformat_minor": 5
}
